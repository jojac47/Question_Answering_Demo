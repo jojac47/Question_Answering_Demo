{
 "cells": [
  {
   "cell_type": "code",
   "execution_count": 1,
   "metadata": {},
   "outputs": [
    {
     "name": "stderr",
     "output_type": "stream",
     "text": [
      "/home/jjacks4/anaconda3/envs/demoEnv/lib/python3.9/site-packages/tqdm/auto.py:22: TqdmWarning: IProgress not found. Please update jupyter and ipywidgets. See https://ipywidgets.readthedocs.io/en/stable/user_install.html\n",
      "  from .autonotebook import tqdm as notebook_tqdm\n"
     ]
    }
   ],
   "source": [
    "#Import the necesary tools from the transformers class\n",
    "from transformers import AutoModelForQuestionAnswering,pipeline,AutoTokenizer"
   ]
  },
  {
   "cell_type": "code",
   "execution_count": 2,
   "metadata": {},
   "outputs": [],
   "source": [
    "#bring in the model and tokenizer from huging face pretrained models\n",
    "model = AutoModelForQuestionAnswering.from_pretrained(\"deepset/roberta-base-squad2\")\n",
    "tokenizer = AutoTokenizer.from_pretrained(\"roberta-base\")"
   ]
  },
  {
   "cell_type": "code",
   "execution_count": 3,
   "metadata": {},
   "outputs": [],
   "source": [
    "#set up the question answering pipeline\n",
    "question_answerer = pipeline(\"question-answering\", model = model, tokenizer = tokenizer)\n"
   ]
  },
  {
   "cell_type": "code",
   "execution_count": null,
   "metadata": {},
   "outputs": [],
   "source": [
    "#function to ask a question from a public NATO document \n",
    "def ask_question_1():\n",
    "    #context is the document you want to ask a question from\n",
    "    context = \"\"\"\n",
    "\n",
    "    NATO’s military organisation and structures comprise all military actors and formations that are involved in and used to implement political decisions that have military implications.\n",
    "\n",
    "    The key elements of NATO’s military organisation are the Military Committee, composed of the Chiefs of Defence of NATO member countries, its executive body – the International Military Staff – and the military Command Structure (distinct from the Force Structure).\n",
    "\n",
    "    The NATO Command Structure is composed of Allied Command Operations and Allied Command Transformation, headed respectively by the Supreme Allied Commander Europe (SACEUR) and the Supreme Allied Commander, Transformation (SACT).\n",
    "\n",
    "    The Force Structure consists of organisational arrangements that bring together the forces placed at the Alliance’s disposal by the member countries, along with their associated command and control structures. These forces are available for NATO operations in accordance with predetermined readiness criteria and with rules of deployment and transfer of authority to NATO command that can vary from country to country.\n",
    "\n",
    "    Working mechanisms\n",
    "\n",
    "    In practice, the Chair of the Military Committee presides over the Military Committee, where each member country has a military representative (or Milrep) for his/her Chief of Defence. This committee - NATO’s most senior military authority - provides the North Atlantic Council and the Nuclear Planning Group with consensus-based military advice – that is, advice agreed to by all of NATO’s Chiefs of Defence.\n",
    "\n",
    "    The Military Committee works closely with NATO’s two Strategic Commanders – SACEUR, responsible for operations and SACT, responsible for transformation. They are both responsible to the Military Committee for the overall conduct of all Alliance military matters within their areas of responsibility.\n",
    "\n",
    "    On the one side, the Military Committee provides the Strategic Commanders with guidance on military matters; and on the other side, it works closely with them to bring forward for political consideration by the North Atlantic Council, military assessments, plans, issues and recommendations, together with an analysis that puts this information into a wider context and takes into account the concerns of each member country. The Military Committee is supported in this role by the International Military Staff.\n",
    "\n",
    "    In sum, the Military Committee serves, inter alia, as a link between the political leaders of NATO Headquarters and the two Strategic Commanders.\n",
    "\n",
    "    The capacity to adapt\n",
    "\n",
    "    Over and above these working mechanisms, there are two phenomena that have a direct impact on the military structure, the way it functions and the way it evolves: first and foremost, international developments and events; and secondly, the constant interaction between the political and military bodies.\n",
    "\n",
    "    Evidently, political events with far-reaching consequences such as the end of the Cold War and military operations such as the International Security Assistance Force (ISAF), NATO’s former operation in Afghanistan – do trigger extensive reforms, especially within NATO’s military Command Structure. To keep pace with all these changes and future challenges, the Command Structure and way of doing business are constantly evolving. Additionally, the permanent exchange of information and specialised knowledge as well as experience between military experts and the political actors at NATO Headquarters are a constant and continual means of mutual education. This ability of the military and the civilian to work closely together makes NATO a unique organisation.\n",
    "    \"\"\"\n",
    "    #The question you want to ask is stored in question variable\n",
    "    question=\"What has the most direct impact on the military structure of NATO?\"\n",
    "    #call the question_answer pipeline we set up and pass it the question to be asked and the context to ask from\n",
    "    result = question_answerer(question=question, context=context)\n",
    "    #print the result\n",
    "    print(\n",
    "        f\"Question: {question} \\n Answer: '{result['answer']}', score: {round(result['score'],4)}, start: {result['start']}, end: {result['end']}\"\n",
    "    )\n"
   ]
  },
  {
   "cell_type": "code",
   "execution_count": null,
   "metadata": {},
   "outputs": [],
   "source": [
    "\n",
    "#function to ask a question from the first page of To Kill a Mocking Bird by Harper Lee. This follows the same structure as question 1.\n",
    "def ask_question_2():\n",
    "    context = \"\"\"\n",
    "\n",
    "    When he was nearly thirteen, my brother Jem got his arm badly broken at the \n",
    "    elbow. When it healed, and Jem’s fears of never being able to play football were \n",
    "    assuaged, he was seldom self-conscious about his injury. His left arm was \n",
    "    somewhat shorter than his right; when he stood or walked, the back of his hand \n",
    "    was at right angles to his body, his thumb parallel to his thigh. He couldn’t have \n",
    "    cared less, so long as he could pass and punt.\n",
    "    When enough years had gone by to enable us to look back on them, we \n",
    "    sometimes discussed the events leading to his accident. I maintain that the Ewells \n",
    "    started it all, but Jem, who was four years my senior, said it started long before \n",
    "    that. He said it began the summer Dill came to us, when Dill first gave us the idea \n",
    "    of making Boo Radley come out.\n",
    "    I said if he wanted to take a broad view of the thing, it really began with Andrew \n",
    "    Jackson. If General Jackson hadn’t run the Creeks up the creek, Simon Finch \n",
    "    would never have paddled up the Alabama, and where would we be if he hadn’t? \n",
    "    We were far too old to settle an argument with a fist-fight, so we consulted \n",
    "    Atticus. Our father said we were both right.\n",
    "    \"\"\"\n",
    "    question=\"How old was Jem when he broke his arm?\"\n",
    "    result = question_answerer(question=question, context=context)\n",
    "    print(\n",
    "        f\"Question: {question} \\n Answer: '{result['answer']}', score: {round(result['score'],4)}, start: {result['start']}, end: {result['end']}\"\n",
    "    )"
   ]
  },
  {
   "cell_type": "code",
   "execution_count": null,
   "metadata": {},
   "outputs": [],
   "source": [
    "ask_question_2()"
   ]
  },
  {
   "cell_type": "code",
   "execution_count": null,
   "metadata": {},
   "outputs": [],
   "source": [
    "#function to ask a question from a wikipedia page on Super Bowl LVI.This follows the same structure as question 1.\n",
    "def ask_question_3():\n",
    "    context = \"\"\"\n",
    "\n",
    "    Super Bowl LVI[12] was an American football game played to determine the champion of the National Football League (NFL) for the 2021 season. The National Football Conference (NFC) champion Los Angeles Rams defeated the American Football Conference (AFC) champion Cincinnati Bengals, 23–20. The game was played on February 13, 2022, at SoFi Stadium in Inglewood, California, the home stadium of the Rams, marking the second consecutive and second overall Super Bowl to feature a team playing and winning in its home stadium.[13][14][15][16]\n",
    "\n",
    "    The Rams' victory was their second, first as a Los Angeles-based team, and first since 1999's Super Bowl XXXIV when they were based in St. Louis. Finishing with a 12–5 record, the Rams reached their fifth appearance after acquiring veteran quarterback Matthew Stafford, who had not won a playoff game in his previous 12 years with the Detroit Lions. The Bengals, who finished with a 10–7 record, were seeking their first Super Bowl title following several decades of losing seasons and playoff struggles. They won their first playoff game since 1990, ending the longest drought in the four major North American sports, en route to their third Super Bowl appearance and first since 1988's Super Bowl XXIII. Each team finished the regular season as their respective conference's 4-seed, making this the first Super Bowl without a top-3 seed since seeding was introduced in 1975.[17]\n",
    "\n",
    "    The game had three lead changes and mostly kept within a one-possession margin. Los Angeles led 13–10 at halftime, but the Bengals scored 10 straight points on their first two drives in the third quarter. Trailing 20–16 in the fourth, the Rams scored a touchdown to retake the lead with under two minutes remaining and stopped Cincinnati's final drive on downs. Wide receiver Cooper Kupp, who converted a fourth down on the Rams' final drive and scored the game-winning touchdown, was named Super Bowl MVP.\n",
    "\n",
    "    NBC's broadcast of Super Bowl LVI was the second-most watched in the game's history, marking a shift from several years of declining ratings. Seen by an average of 112.3 million total viewers on both NBC and its streaming platforms,[18] the game's ratings were up by 8% from the previous Super Bowl.[19]\n",
    "    \"\"\"\n",
    "    question=\"Who won Super Bowl MVP in Super Bowl LVI\"\n",
    "    result = question_answerer(question=question, context=context)\n",
    "    print(\n",
    "        f\"Question: {question} \\n Answer: '{result['answer']}', score: {round(result['score'],4)}, start: {result['start']}, end: {result['end']}\"\n",
    "    )"
   ]
  },
  {
   "cell_type": "code",
   "execution_count": null,
   "metadata": {},
   "outputs": [],
   "source": [
    "ask_question_3()"
   ]
  },
  {
   "cell_type": "code",
   "execution_count": null,
   "metadata": {},
   "outputs": [],
   "source": [
    "#function that asks a question based on a text file and input from the user.\n",
    "def ask_custom_question():\n",
    "    # store the present working directory in variable data_path\n",
    "    data_path = !pwd\n",
    "    \n",
    "    #add the path to the data.txt file to the pwd.\n",
    "    data_path = (' '.join([str(elem) for elem in data_path])+'/data.txt')\n",
    "\n",
    "    #open the data.txt file and store all of the text into the variable data.\n",
    "    with open(data_path, 'r') as file:\n",
    "        data = file.read().replace('\\n', '')\n",
    "   \n",
    "    #get input from the user via the command prompt to be stored in the question variable\n",
    "    question = input(\"Please as a question from the data supplied in data.txt\")\n",
    "    \n",
    "    #call the question_answer pipeline with the context and question supplied by the user.\n",
    "    result = question_answerer(question=question, context=data)\n",
    "    \n",
    "    #print the result\n",
    "    print(\n",
    "        f\"Question: {question} \\n Answer: '{result['answer']}', score: {round(result['score'],4)}, start: {result['start']}, end: {result['end']}\"\n",
    "    )"
   ]
  },
  {
   "cell_type": "code",
   "execution_count": null,
   "metadata": {},
   "outputs": [],
   "source": [
    "ask_custom_question()"
   ]
  }
 ],
 "metadata": {
  "kernelspec": {
   "display_name": "Python 3.9.13 ('demoEnv')",
   "language": "python",
   "name": "python3"
  },
  "language_info": {
   "codemirror_mode": {
    "name": "ipython",
    "version": 3
   },
   "file_extension": ".py",
   "mimetype": "text/x-python",
   "name": "python",
   "nbconvert_exporter": "python",
   "pygments_lexer": "ipython3",
   "version": "3.9.13"
  },
  "orig_nbformat": 4,
  "vscode": {
   "interpreter": {
    "hash": "f35cfc15836888f456a9cab95e362cc3ee48de68e20249034287516206745b59"
   }
  }
 },
 "nbformat": 4,
 "nbformat_minor": 2
}
