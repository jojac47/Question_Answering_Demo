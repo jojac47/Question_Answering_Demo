{
 "cells": [
  {
   "cell_type": "code",
   "execution_count": 1,
   "metadata": {},
   "outputs": [
    {
     "name": "stderr",
     "output_type": "stream",
     "text": [
      "/home/jjacks4/anaconda3/envs/demoEnv/lib/python3.9/site-packages/tqdm/auto.py:22: TqdmWarning: IProgress not found. Please update jupyter and ipywidgets. See https://ipywidgets.readthedocs.io/en/stable/user_install.html\n",
      "  from .autonotebook import tqdm as notebook_tqdm\n"
     ]
    }
   ],
   "source": [
    "from transformers import AutoModelForQuestionAnswering,pipeline,AutoTokenizer"
   ]
  },
  {
   "cell_type": "code",
   "execution_count": 2,
   "metadata": {},
   "outputs": [
    {
     "name": "stderr",
     "output_type": "stream",
     "text": [
      "Downloading: 100%|██████████| 571/571 [00:00<00:00, 350kB/s]\n",
      "Downloading: 100%|██████████| 496M/496M [00:05<00:00, 92.9MB/s] \n"
     ]
    }
   ],
   "source": [
    "model = AutoModelForQuestionAnswering.from_pretrained(\"deepset/roberta-base-squad2\")\n",
    "tokenizer = AutoTokenizer.from_pretrained(\"roberta-large\")"
   ]
  },
  {
   "cell_type": "code",
   "execution_count": 3,
   "metadata": {},
   "outputs": [],
   "source": [
    "question_answerer = pipeline(\"question-answering\", model = model, tokenizer = tokenizer)\n"
   ]
  },
  {
   "cell_type": "code",
   "execution_count": 4,
   "metadata": {},
   "outputs": [],
   "source": [
    "context = \"\"\"\n",
    "We condemn in the strongest possible terms Russia’s horrifying attack on Ukraine, which is entirely unjustified and unprovoked. Our thoughts are with all those killed and injured, and with the people of Ukraine. We also condemn Belarus for enabling this attack.\n",
    "\n",
    "This renewed attack is a grave violation of international law, including the UN Charter, and is wholly contradictory to Russia’s commitments in the Helsinki Final Act, the Charter of Paris, the Budapest Memorandum and the NATO-Russia Founding Act. It constitutes an act of aggression against an independent peaceful country.\n",
    "\n",
    "We stand with the people of Ukraine and its legitimate, democratically elected president, parliament and government. We will always maintain our full support for the territorial integrity and sovereignty of Ukraine within its internationally recognised borders, including its territorial waters. \n",
    "\n",
    "We call on Russia to immediately cease its military action and withdraw all its forces from in and around Ukraine, to fully respect international humanitarian law, and to allow safe and unhindered humanitarian access and assistance to all persons in need.\n",
    "\n",
    "We strongly condemn Russia’s decision to extend recognition to the separatist regions of eastern Ukraine. This further violates Ukraine’s sovereignty and territorial integrity, and contravenes the Minsk agreements, to which Russia is a signatory. Allies will never accept this illegal recognition.\n",
    "\n",
    "We urge Russia in the strongest terms to turn back from the path of violence and aggression it has chosen. Russia’s leaders must bear full responsibility for the consequences of their actions. Russia will pay a very heavy economic and political price. NATO will continue to coordinate closely with relevant stakeholders and other international organisations including the EU.\n",
    "\n",
    "Throughout this crisis, NATO, the Allies, and our partners have made every effort to pursue diplomacy and dialogue with Russia, including at the highest levels, and made many substantive proposals to enhance the security of all nations in the Euro-Atlantic region. We have repeatedly invited Russia to talks in the NATO-Russia Council. Russia has still not reciprocated. It is Russia, and Russia alone, which has chosen escalation.\n",
    "\n",
    "Russia’s actions pose a serious threat to Euro-Atlantic security, and they will have geostrategic consequences. NATO will continue to take all necessary measures to ensure the security and defence of all Allies. We are deploying additional defensive land and air forces to the eastern part of the Alliance, as well as additional maritime assets. We have increased the readiness of our forces to respond to all contingencies.\n",
    "\n",
    "Today, we have held consultations under Article 4 of the Washington Treaty. We have decided, in line with our defensive planning to protect all Allies, to take additional steps to further strengthen deterrence and defence across the Alliance. Our measures are and remain preventive, proportionate and non-escalatory.\n",
    "\n",
    "Our commitment to Article 5 of the Washington Treaty is iron-clad. We stand united to defend each other.\n",
    "\"\"\""
   ]
  },
  {
   "cell_type": "code",
   "execution_count": 5,
   "metadata": {},
   "outputs": [
    {
     "name": "stdout",
     "output_type": "stream",
     "text": [
      "Answer: 'We condemn in the strongest possible terms', score: 0.1446, start: 1, end: 43\n"
     ]
    }
   ],
   "source": [
    "result = question_answerer(question=\"What is the stance of NATO on Russias attack on Ukraine?\", context=context)\n",
    "print(\n",
    "    f\"Answer: '{result['answer']}', score: {round(result['score'],4)}, start: {result['start']}, end: {result['end']}\"\n",
    ")"
   ]
  }
 ],
 "metadata": {
  "kernelspec": {
   "display_name": "Python 3.9.13 ('demoEnv')",
   "language": "python",
   "name": "python3"
  },
  "language_info": {
   "codemirror_mode": {
    "name": "ipython",
    "version": 3
   },
   "file_extension": ".py",
   "mimetype": "text/x-python",
   "name": "python",
   "nbconvert_exporter": "python",
   "pygments_lexer": "ipython3",
   "version": "3.9.13"
  },
  "orig_nbformat": 4,
  "vscode": {
   "interpreter": {
    "hash": "f35cfc15836888f456a9cab95e362cc3ee48de68e20249034287516206745b59"
   }
  }
 },
 "nbformat": 4,
 "nbformat_minor": 2
}
