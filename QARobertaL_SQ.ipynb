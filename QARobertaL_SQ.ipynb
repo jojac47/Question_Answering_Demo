{
 "cells": [
  {
   "cell_type": "code",
   "execution_count": 1,
   "metadata": {},
   "outputs": [
    {
     "name": "stderr",
     "output_type": "stream",
     "text": [
      "/home/jjacks4/anaconda3/envs/demoEnv/lib/python3.9/site-packages/tqdm/auto.py:22: TqdmWarning: IProgress not found. Please update jupyter and ipywidgets. See https://ipywidgets.readthedocs.io/en/stable/user_install.html\n",
      "  from .autonotebook import tqdm as notebook_tqdm\n"
     ]
    }
   ],
   "source": [
    "from transformers import AutoModelForQuestionAnswering,pipeline,AutoTokenizer"
   ]
  },
  {
   "cell_type": "code",
   "execution_count": 2,
   "metadata": {},
   "outputs": [],
   "source": [
    "model = AutoModelForQuestionAnswering.from_pretrained(\"deepset/roberta-base-squad2\")\n",
    "tokenizer = AutoTokenizer.from_pretrained(\"roberta-large\")"
   ]
  },
  {
   "cell_type": "code",
   "execution_count": 3,
   "metadata": {},
   "outputs": [],
   "source": [
    "question_answerer = pipeline(\"question-answering\", model = model, tokenizer = tokenizer)\n"
   ]
  },
  {
   "cell_type": "code",
   "execution_count": 4,
   "metadata": {},
   "outputs": [],
   "source": [
    "context = \"\"\"\n",
    "\n",
    "NATO’s military organisation and structures comprise all military actors and formations that are involved in and used to implement political decisions that have military implications.\n",
    "\n",
    "The key elements of NATO’s military organisation are the Military Committee, composed of the Chiefs of Defence of NATO member countries, its executive body – the International Military Staff – and the military Command Structure (distinct from the Force Structure).\n",
    "\n",
    "The NATO Command Structure is composed of Allied Command Operations and Allied Command Transformation, headed respectively by the Supreme Allied Commander Europe (SACEUR) and the Supreme Allied Commander, Transformation (SACT).\n",
    "\n",
    "The Force Structure consists of organisational arrangements that bring together the forces placed at the Alliance’s disposal by the member countries, along with their associated command and control structures. These forces are available for NATO operations in accordance with predetermined readiness criteria and with rules of deployment and transfer of authority to NATO command that can vary from country to country.\n",
    "\n",
    "Working mechanisms\n",
    "\n",
    "In practice, the Chair of the Military Committee presides over the Military Committee, where each member country has a military representative (or Milrep) for his/her Chief of Defence. This committee - NATO’s most senior military authority - provides the North Atlantic Council and the Nuclear Planning Group with consensus-based military advice – that is, advice agreed to by all of NATO’s Chiefs of Defence.\n",
    "\n",
    "The Military Committee works closely with NATO’s two Strategic Commanders – SACEUR, responsible for operations and SACT, responsible for transformation. They are both responsible to the Military Committee for the overall conduct of all Alliance military matters within their areas of responsibility.\n",
    "\n",
    "On the one side, the Military Committee provides the Strategic Commanders with guidance on military matters; and on the other side, it works closely with them to bring forward for political consideration by the North Atlantic Council, military assessments, plans, issues and recommendations, together with an analysis that puts this information into a wider context and takes into account the concerns of each member country. The Military Committee is supported in this role by the International Military Staff.\n",
    "\n",
    "In sum, the Military Committee serves, inter alia, as a link between the political leaders of NATO Headquarters and the two Strategic Commanders.\n",
    "\n",
    "The capacity to adapt\n",
    "\n",
    "Over and above these working mechanisms, there are two phenomena that have a direct impact on the military structure, the way it functions and the way it evolves: first and foremost, international developments and events; and secondly, the constant interaction between the political and military bodies.\n",
    "\n",
    "Evidently, political events with far-reaching consequences such as the end of the Cold War and military operations such as the International Security Assistance Force (ISAF), NATO’s former operation in Afghanistan – do trigger extensive reforms, especially within NATO’s military Command Structure. To keep pace with all these changes and future challenges, the Command Structure and way of doing business are constantly evolving. Additionally, the permanent exchange of information and specialised knowledge as well as experience between military experts and the political actors at NATO Headquarters are a constant and continual means of mutual education. This ability of the military and the civilian to work closely together makes NATO a unique organisation.\n",
    "\"\"\""
   ]
  },
  {
   "cell_type": "code",
   "execution_count": 11,
   "metadata": {},
   "outputs": [
    {
     "name": "stdout",
     "output_type": "stream",
     "text": [
      "Answer: 'international developments and events', score: 0.6479, start: 2700, end: 2737\n"
     ]
    }
   ],
   "source": [
    "result = question_answerer(question=\"What has the most direct impact on the military structure of NATO?\", context=context)\n",
    "print(\n",
    "    f\"Answer: '{result['answer']}', score: {round(result['score'],4)}, start: {result['start']}, end: {result['end']}\"\n",
    ")"
   ]
  }
 ],
 "metadata": {
  "kernelspec": {
   "display_name": "Python 3.9.13 ('demoEnv')",
   "language": "python",
   "name": "python3"
  },
  "language_info": {
   "codemirror_mode": {
    "name": "ipython",
    "version": 3
   },
   "file_extension": ".py",
   "mimetype": "text/x-python",
   "name": "python",
   "nbconvert_exporter": "python",
   "pygments_lexer": "ipython3",
   "version": "3.9.13"
  },
  "orig_nbformat": 4,
  "vscode": {
   "interpreter": {
    "hash": "f35cfc15836888f456a9cab95e362cc3ee48de68e20249034287516206745b59"
   }
  }
 },
 "nbformat": 4,
 "nbformat_minor": 2
}
